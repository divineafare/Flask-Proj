{
 "cells": [
  {
   "cell_type": "code",
   "execution_count": null,
   "metadata": {},
   "outputs": [],
   "source": [
    "import pandas as pd\n",
    "import matplotlib.pyplot as plt\n",
    "\n",
    "# Load CSV file\n",
    "df = pd.read_csv('users.csv')\n",
    "\n",
    "# Show the ages with the highest income\n",
    "age_income = df.groupby('Age')['Total Income'].sum().reset_index()\n",
    "age_income = age_income.sort_values(by='Total Income', ascending=False)\n",
    "\n",
    "plt.figure(figsize=(10, 6))\n",
    "plt.bar(age_income['Age'], age_income['Total Income'])\n",
    "plt.xlabel('Age')\n",
    "plt.ylabel('Total Income')\n",
    "plt.title('Ages with the Highest Income')\n",
    "plt.savefig('age_income.png')\n",
    "plt.show()\n",
    "\n",
    "# Show the gender distribution across spending categories\n",
    "spending_categories = ['Utilities', 'Entertainment', 'School Fees', 'Shopping', 'Healthcare']\n",
    "gender_spending = df.groupby('Gender')[spending_categories].sum().reset_index()\n",
    "\n",
    "gender_spending.plot(kind='bar', x='Gender', stacked=True, figsize=(10, 6))\n",
    "plt.xlabel('Gender')\n",
    "plt.ylabel('Total Spending')\n",
    "plt.title('Gender Distribution Across Spending Categories')\n",
    "plt.savefig('gender_spending.png')\n",
    "plt.show()\n"
   ]
  }
 ],
 "metadata": {
  "language_info": {
   "name": "python"
  }
 },
 "nbformat": 4,
 "nbformat_minor": 2
}
